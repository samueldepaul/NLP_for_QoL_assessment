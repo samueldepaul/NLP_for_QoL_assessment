{
 "cells": [
  {
   "cell_type": "markdown",
   "id": "09a1a0ff",
   "metadata": {},
   "source": [
    "# Plotting Binary Classificatoin results:"
   ]
  },
  {
   "cell_type": "markdown",
   "id": "1be0a1ed",
   "metadata": {},
   "source": [
    "### Load dependencies and data:"
   ]
  },
  {
   "cell_type": "code",
   "execution_count": 78,
   "id": "0cf2e5ca",
   "metadata": {},
   "outputs": [],
   "source": [
    "import pandas as pd\n",
    "import numpy as np\n",
    "import boto3\n",
    "\n",
    "# Create an S3 client instance\n",
    "s3 = boto3.client('s3')\n",
    "\n",
    "# Specify the file and bucket names\n",
    "bucket_name = 'samtfm'\n",
    "bow = 'bow_results_S3.csv'\n",
    "tfidf = 'tfidf_results_S3.csv'\n",
    "dla1 = 'dla_results_S3(1).csv'\n",
    "dla2 = 'dla_results_S3(2).csv'\n",
    "bert = 'binary_bert_results_balanced_S3_total.csv'\n",
    "roberta1 = 'binary_BIOroBERTa_results_balanced_S3_total.csv'\n",
    "roberta2 = 'binary_BIOroBERTa_results_balanced_S3_total(2).csv'\n",
    "\n",
    "for file_name in [bow, tfidf, dla1, dla2, bert, roberta1, roberta2]:\n",
    "    s3.download_file(bucket_name, file_name, file_name)\n",
    "\n",
    "# Read csv files as pandas dataframes\n",
    "bow = pd.read_csv(bow)\n",
    "tfidf = pd.read_csv(tfidf)\n",
    "dla1 = pd.read_csv(dla1)\n",
    "dla2 = pd.read_csv(dla2)\n",
    "bert = pd.read_csv(bert)\n",
    "roberta1 = pd.read_csv(roberta1)\n",
    "roberta2 = pd.read_csv(roberta2)"
   ]
  },
  {
   "cell_type": "code",
   "execution_count": 79,
   "id": "a864421d",
   "metadata": {},
   "outputs": [],
   "source": [
    "glove = pd.concat([dla1, dla2], axis = 0)\n",
    "glove = glove.dropna()\n",
    "glove = glove[glove['10'] == \"glove_100d\"]"
   ]
  },
  {
   "cell_type": "markdown",
   "id": "f5932731",
   "metadata": {},
   "source": [
    "#### Check data is correctly loaded:"
   ]
  },
  {
   "cell_type": "code",
   "execution_count": 80,
   "id": "6024c3e9",
   "metadata": {},
   "outputs": [
    {
     "data": {
      "text/html": [
       "<div>\n",
       "<style scoped>\n",
       "    .dataframe tbody tr th:only-of-type {\n",
       "        vertical-align: middle;\n",
       "    }\n",
       "\n",
       "    .dataframe tbody tr th {\n",
       "        vertical-align: top;\n",
       "    }\n",
       "\n",
       "    .dataframe thead th {\n",
       "        text-align: right;\n",
       "    }\n",
       "</style>\n",
       "<table border=\"1\" class=\"dataframe\">\n",
       "  <thead>\n",
       "    <tr style=\"text-align: right;\">\n",
       "      <th></th>\n",
       "      <th>train_acc</th>\n",
       "      <th>train_rec</th>\n",
       "      <th>train_f1</th>\n",
       "      <th>test_acc</th>\n",
       "      <th>test_rec</th>\n",
       "      <th>test_f1</th>\n",
       "      <th>batch_size</th>\n",
       "      <th>dropout</th>\n",
       "      <th>lr</th>\n",
       "      <th>epochs</th>\n",
       "      <th>10</th>\n",
       "    </tr>\n",
       "  </thead>\n",
       "  <tbody>\n",
       "    <tr>\n",
       "      <th>0</th>\n",
       "      <td>0.971371</td>\n",
       "      <td>0.971272</td>\n",
       "      <td>0.971160</td>\n",
       "      <td>0.907729</td>\n",
       "      <td>0.905028</td>\n",
       "      <td>0.905652</td>\n",
       "      <td>16</td>\n",
       "      <td>0.0</td>\n",
       "      <td>0.001</td>\n",
       "      <td>20</td>\n",
       "      <td>glove_100d</td>\n",
       "    </tr>\n",
       "    <tr>\n",
       "      <th>1</th>\n",
       "      <td>0.408130</td>\n",
       "      <td>0.638851</td>\n",
       "      <td>0.498069</td>\n",
       "      <td>0.391498</td>\n",
       "      <td>0.625698</td>\n",
       "      <td>0.481637</td>\n",
       "      <td>16</td>\n",
       "      <td>0.0</td>\n",
       "      <td>0.010</td>\n",
       "      <td>20</td>\n",
       "      <td>glove_100d</td>\n",
       "    </tr>\n",
       "    <tr>\n",
       "      <th>2</th>\n",
       "      <td>0.130429</td>\n",
       "      <td>0.361149</td>\n",
       "      <td>0.191645</td>\n",
       "      <td>0.140102</td>\n",
       "      <td>0.374302</td>\n",
       "      <td>0.203888</td>\n",
       "      <td>16</td>\n",
       "      <td>0.0</td>\n",
       "      <td>0.100</td>\n",
       "      <td>20</td>\n",
       "      <td>glove_100d</td>\n",
       "    </tr>\n",
       "    <tr>\n",
       "      <th>3</th>\n",
       "      <td>0.946809</td>\n",
       "      <td>0.946648</td>\n",
       "      <td>0.944939</td>\n",
       "      <td>0.865305</td>\n",
       "      <td>0.865922</td>\n",
       "      <td>0.865499</td>\n",
       "      <td>16</td>\n",
       "      <td>0.2</td>\n",
       "      <td>0.001</td>\n",
       "      <td>20</td>\n",
       "      <td>glove_100d</td>\n",
       "    </tr>\n",
       "    <tr>\n",
       "      <th>4</th>\n",
       "      <td>0.408130</td>\n",
       "      <td>0.638851</td>\n",
       "      <td>0.498069</td>\n",
       "      <td>0.391498</td>\n",
       "      <td>0.625698</td>\n",
       "      <td>0.481637</td>\n",
       "      <td>16</td>\n",
       "      <td>0.2</td>\n",
       "      <td>0.010</td>\n",
       "      <td>20</td>\n",
       "      <td>glove_100d</td>\n",
       "    </tr>\n",
       "  </tbody>\n",
       "</table>\n",
       "</div>"
      ],
      "text/plain": [
       "   train_acc  train_rec  train_f1  test_acc  test_rec   test_f1  batch_size   \n",
       "0   0.971371   0.971272  0.971160  0.907729  0.905028  0.905652          16  \\\n",
       "1   0.408130   0.638851  0.498069  0.391498  0.625698  0.481637          16   \n",
       "2   0.130429   0.361149  0.191645  0.140102  0.374302  0.203888          16   \n",
       "3   0.946809   0.946648  0.944939  0.865305  0.865922  0.865499          16   \n",
       "4   0.408130   0.638851  0.498069  0.391498  0.625698  0.481637          16   \n",
       "\n",
       "   dropout     lr  epochs          10  \n",
       "0      0.0  0.001      20  glove_100d  \n",
       "1      0.0  0.010      20  glove_100d  \n",
       "2      0.0  0.100      20  glove_100d  \n",
       "3      0.2  0.001      20  glove_100d  \n",
       "4      0.2  0.010      20  glove_100d  "
      ]
     },
     "execution_count": 80,
     "metadata": {},
     "output_type": "execute_result"
    }
   ],
   "source": [
    "glove.head()"
   ]
  },
  {
   "cell_type": "markdown",
   "id": "9a6cdeb4",
   "metadata": {},
   "source": [
    "#### Manipulate data to obtain desired dataframes:"
   ]
  },
  {
   "cell_type": "code",
   "execution_count": 81,
   "id": "0b659f3a",
   "metadata": {},
   "outputs": [],
   "source": [
    "roberta = pd.concat([roberta1, roberta2], axis = 0)\n",
    "roberta = roberta.dropna()"
   ]
  },
  {
   "cell_type": "code",
   "execution_count": 82,
   "id": "fc644f47",
   "metadata": {},
   "outputs": [],
   "source": [
    "dla = pd.concat([glove, bert, roberta], axis = 0)\n",
    "dla = dla.dropna()"
   ]
  },
  {
   "cell_type": "code",
   "execution_count": 83,
   "id": "8e682c3b",
   "metadata": {},
   "outputs": [
    {
     "data": {
      "text/plain": [
       "(63, 11)"
      ]
     },
     "execution_count": 83,
     "metadata": {},
     "output_type": "execute_result"
    }
   ],
   "source": [
    "dla.shape"
   ]
  },
  {
   "cell_type": "markdown",
   "id": "e6ce6695",
   "metadata": {},
   "source": [
    "#### Break down DL-approach dataset into  datasets for every embedding type:"
   ]
  },
  {
   "cell_type": "code",
   "execution_count": 85,
   "id": "530200e7",
   "metadata": {},
   "outputs": [],
   "source": [
    "glove = dla[dla['10'] == 'glove_100d']\n",
    "bert = dla[dla['10'] == 'bert_embeddings_bert_large_uncased_whole_word_masking']\n",
    "roberta = dla[dla['10'] == 'roberta_embeddings_pmc_med_bio_mlm_roberta_large']"
   ]
  },
  {
   "cell_type": "markdown",
   "id": "659ec4bd",
   "metadata": {},
   "source": [
    "#### Plot mean F1-score for each model (considering all hyperparameter combinations)"
   ]
  },
  {
   "cell_type": "code",
   "execution_count": 86,
   "id": "657c0427",
   "metadata": {},
   "outputs": [],
   "source": [
    "model_list = [bow, tfidf, glove, bert, roberta]\n",
    "model_names = [\"BoW\", \"TF-IDF\", \"GloVe\", \"BERT\", \"BIO-roBERTa\"]"
   ]
  },
  {
   "cell_type": "code",
   "execution_count": 87,
   "id": "38d1af28",
   "metadata": {},
   "outputs": [],
   "source": [
    "mean_test_f1 = [round(np.mean(model.test_f1),3) for model in model_list]"
   ]
  },
  {
   "cell_type": "code",
   "execution_count": 88,
   "id": "9594b656",
   "metadata": {
    "scrolled": true
   },
   "outputs": [
    {
     "data": {
      "image/png": "[encoded data removed]",
      "text/plain": [
       "<Figure size 640x480 with 1 Axes>"
      ]
     },
     "metadata": {},
     "output_type": "display_data"
    }
   ],
   "source": [
    "import matplotlib.pyplot as plt\n",
    "import math\n",
    "\n",
    "plt.bar(model_names, mean_test_f1, color='orange')\n",
    "plt.xlabel('Model Names')\n",
    "plt.ylabel('F1 Score')\n",
    "plt.title('F1 Score for each type of model', fontsize=16, fontweight='bold')\n",
    "plt.xticks(rotation=45)\n",
    "\n",
    "# Add values on top of the bars\n",
    "for i, value in enumerate(mean_test_f1):\n",
    "    plt.text(i, value, format(value, \".3f\"), ha='center', va='bottom')\n",
    "\n",
    "plt.tight_layout()\n",
    "plt.show()"
   ]
  },
  {
   "cell_type": "markdown",
   "id": "daf1081e",
   "metadata": {},
   "source": [
    "#### Create df only containing top 5 models of each type:"
   ]
  },
  {
   "cell_type": "code",
   "execution_count": 89,
   "id": "bd1af32e",
   "metadata": {},
   "outputs": [],
   "source": [
    "top10_bow = bow.sort_values(by = ['test_f1'], ascending = False).head(5)"
   ]
  },
  {
   "cell_type": "code",
   "execution_count": 90,
   "id": "ba54c884",
   "metadata": {},
   "outputs": [],
   "source": [
    "top10_tfidf = tfidf.sort_values(by = ['test_f1'], ascending = False).head(5)"
   ]
  },
  {
   "cell_type": "code",
   "execution_count": 91,
   "id": "64f53025",
   "metadata": {},
   "outputs": [],
   "source": [
    "top10_glove = glove.sort_values(by = ['test_f1'], ascending = False).head(5)"
   ]
  },
  {
   "cell_type": "code",
   "execution_count": 92,
   "id": "549ab006",
   "metadata": {},
   "outputs": [],
   "source": [
    "top10_bert = bert.sort_values(by = ['test_f1'], ascending = False).head(5)"
   ]
  },
  {
   "cell_type": "code",
   "execution_count": 93,
   "id": "cfaac44f",
   "metadata": {},
   "outputs": [],
   "source": [
    "top10_roberta = roberta.sort_values(by = ['test_f1'], ascending = False).head(5)"
   ]
  },
  {
   "cell_type": "markdown",
   "id": "ddf4fcba",
   "metadata": {},
   "source": [
    "#### Plot mean F1-score for top 5 models of each type:"
   ]
  },
  {
   "cell_type": "code",
   "execution_count": 95,
   "id": "78ec54eb",
   "metadata": {},
   "outputs": [],
   "source": [
    "top_model_list = [top10_bow, top10_tfidf, top10_glove, top10_bert, top10_roberta]\n",
    "model_names = [\"BoW\", \"TF-IDF\", \"GloVe\", \"BERT\", \"BIO-roBERTa\"]"
   ]
  },
  {
   "cell_type": "code",
   "execution_count": 96,
   "id": "3d3807ea",
   "metadata": {},
   "outputs": [],
   "source": [
    "mean_top_test_f1 = [round(np.mean(model.test_f1),3) for model in top_model_list]"
   ]
  },
  {
   "cell_type": "code",
   "execution_count": 97,
   "id": "dee8a5c8",
   "metadata": {},
   "outputs": [
    {
     "data": {
      "image/png": "[encoded data removed]",
      "text/plain": [
       "<Figure size 640x480 with 1 Axes>"
      ]
     },
     "metadata": {},
     "output_type": "display_data"
    }
   ],
   "source": [
    "import matplotlib.pyplot as plt\n",
    "import math\n",
    "\n",
    "plt.bar(model_names, mean_top_test_f1, color='orange')\n",
    "plt.xlabel('Model Names')\n",
    "plt.ylabel('F1 Score')\n",
    "plt.title('F1 Score for the top 5 models of each type', fontsize=16, fontweight='bold')\n",
    "plt.xticks(rotation=45)\n",
    "\n",
    "# Add values on top of the bars\n",
    "for i, value in enumerate(mean_top_test_f1):\n",
    "    plt.text(i, value, format(value, \".3f\"), ha='center', va='bottom')\n",
    "\n",
    "plt.tight_layout()\n",
    "plt.show()"
   ]
  },
  {
   "cell_type": "markdown",
   "id": "f3596ac2",
   "metadata": {},
   "source": [
    "#### Create dataframe with DL-based models with f1-score > 0.85:"
   ]
  },
  {
   "cell_type": "code",
   "execution_count": 98,
   "id": "4094eb5b",
   "metadata": {},
   "outputs": [
    {
     "data": {
      "text/html": [
       "<div>\n",
       "<style scoped>\n",
       "    .dataframe tbody tr th:only-of-type {\n",
       "        vertical-align: middle;\n",
       "    }\n",
       "\n",
       "    .dataframe tbody tr th {\n",
       "        vertical-align: top;\n",
       "    }\n",
       "\n",
       "    .dataframe thead th {\n",
       "        text-align: right;\n",
       "    }\n",
       "</style>\n",
       "<table border=\"1\" class=\"dataframe\">\n",
       "  <thead>\n",
       "    <tr style=\"text-align: right;\">\n",
       "      <th></th>\n",
       "      <th>train_acc</th>\n",
       "      <th>train_rec</th>\n",
       "      <th>train_f1</th>\n",
       "      <th>test_acc</th>\n",
       "      <th>test_rec</th>\n",
       "      <th>test_f1</th>\n",
       "      <th>batch_size</th>\n",
       "      <th>dropout</th>\n",
       "      <th>lr</th>\n",
       "      <th>epochs</th>\n",
       "      <th>10</th>\n",
       "    </tr>\n",
       "  </thead>\n",
       "  <tbody>\n",
       "    <tr>\n",
       "      <th>9</th>\n",
       "      <td>0.989146</td>\n",
       "      <td>0.989056</td>\n",
       "      <td>0.989028</td>\n",
       "      <td>0.978038</td>\n",
       "      <td>0.977654</td>\n",
       "      <td>0.977717</td>\n",
       "      <td>64</td>\n",
       "      <td>0.0</td>\n",
       "      <td>0.001</td>\n",
       "      <td>20</td>\n",
       "      <td>bert_embeddings_bert_large_uncased_whole_word_...</td>\n",
       "    </tr>\n",
       "    <tr>\n",
       "      <th>3</th>\n",
       "      <td>0.993179</td>\n",
       "      <td>0.993160</td>\n",
       "      <td>0.993151</td>\n",
       "      <td>0.978038</td>\n",
       "      <td>0.977654</td>\n",
       "      <td>0.977717</td>\n",
       "      <td>32</td>\n",
       "      <td>0.2</td>\n",
       "      <td>0.001</td>\n",
       "      <td>20</td>\n",
       "      <td>bert_embeddings_bert_large_uncased_whole_word_...</td>\n",
       "    </tr>\n",
       "    <tr>\n",
       "      <th>12</th>\n",
       "      <td>0.986395</td>\n",
       "      <td>0.986320</td>\n",
       "      <td>0.986285</td>\n",
       "      <td>0.972871</td>\n",
       "      <td>0.972067</td>\n",
       "      <td>0.972183</td>\n",
       "      <td>64</td>\n",
       "      <td>0.2</td>\n",
       "      <td>0.001</td>\n",
       "      <td>20</td>\n",
       "      <td>bert_embeddings_bert_large_uncased_whole_word_...</td>\n",
       "    </tr>\n",
       "    <tr>\n",
       "      <th>6</th>\n",
       "      <td>0.986395</td>\n",
       "      <td>0.986320</td>\n",
       "      <td>0.986285</td>\n",
       "      <td>0.972871</td>\n",
       "      <td>0.972067</td>\n",
       "      <td>0.972183</td>\n",
       "      <td>32</td>\n",
       "      <td>0.4</td>\n",
       "      <td>0.001</td>\n",
       "      <td>20</td>\n",
       "      <td>bert_embeddings_bert_large_uncased_whole_word_...</td>\n",
       "    </tr>\n",
       "    <tr>\n",
       "      <th>15</th>\n",
       "      <td>0.986395</td>\n",
       "      <td>0.986320</td>\n",
       "      <td>0.986285</td>\n",
       "      <td>0.972871</td>\n",
       "      <td>0.972067</td>\n",
       "      <td>0.972183</td>\n",
       "      <td>64</td>\n",
       "      <td>0.4</td>\n",
       "      <td>0.001</td>\n",
       "      <td>20</td>\n",
       "      <td>bert_embeddings_bert_large_uncased_whole_word_...</td>\n",
       "    </tr>\n",
       "    <tr>\n",
       "      <th>0</th>\n",
       "      <td>0.991829</td>\n",
       "      <td>0.991792</td>\n",
       "      <td>0.991778</td>\n",
       "      <td>0.972213</td>\n",
       "      <td>0.972067</td>\n",
       "      <td>0.972108</td>\n",
       "      <td>32</td>\n",
       "      <td>0.0</td>\n",
       "      <td>0.001</td>\n",
       "      <td>20</td>\n",
       "      <td>bert_embeddings_bert_large_uncased_whole_word_...</td>\n",
       "    </tr>\n",
       "    <tr>\n",
       "      <th>3</th>\n",
       "      <td>0.977158</td>\n",
       "      <td>0.976744</td>\n",
       "      <td>0.976610</td>\n",
       "      <td>0.944134</td>\n",
       "      <td>0.944134</td>\n",
       "      <td>0.944134</td>\n",
       "      <td>32</td>\n",
       "      <td>0.2</td>\n",
       "      <td>0.001</td>\n",
       "      <td>20</td>\n",
       "      <td>roberta_embeddings_pmc_med_bio_mlm_roberta_large</td>\n",
       "    </tr>\n",
       "    <tr>\n",
       "      <th>0</th>\n",
       "      <td>0.971371</td>\n",
       "      <td>0.971272</td>\n",
       "      <td>0.971160</td>\n",
       "      <td>0.907729</td>\n",
       "      <td>0.905028</td>\n",
       "      <td>0.905652</td>\n",
       "      <td>16</td>\n",
       "      <td>0.0</td>\n",
       "      <td>0.001</td>\n",
       "      <td>20</td>\n",
       "      <td>glove_100d</td>\n",
       "    </tr>\n",
       "    <tr>\n",
       "      <th>18</th>\n",
       "      <td>0.968849</td>\n",
       "      <td>0.968536</td>\n",
       "      <td>0.968355</td>\n",
       "      <td>0.887742</td>\n",
       "      <td>0.888268</td>\n",
       "      <td>0.887529</td>\n",
       "      <td>64</td>\n",
       "      <td>0.0</td>\n",
       "      <td>0.001</td>\n",
       "      <td>20</td>\n",
       "      <td>glove_100d</td>\n",
       "    </tr>\n",
       "    <tr>\n",
       "      <th>6</th>\n",
       "      <td>0.925644</td>\n",
       "      <td>0.924761</td>\n",
       "      <td>0.923790</td>\n",
       "      <td>0.871941</td>\n",
       "      <td>0.871508</td>\n",
       "      <td>0.871696</td>\n",
       "      <td>16</td>\n",
       "      <td>0.4</td>\n",
       "      <td>0.001</td>\n",
       "      <td>20</td>\n",
       "      <td>glove_100d</td>\n",
       "    </tr>\n",
       "    <tr>\n",
       "      <th>12</th>\n",
       "      <td>0.947138</td>\n",
       "      <td>0.946648</td>\n",
       "      <td>0.946185</td>\n",
       "      <td>0.870784</td>\n",
       "      <td>0.871508</td>\n",
       "      <td>0.870886</td>\n",
       "      <td>32</td>\n",
       "      <td>0.2</td>\n",
       "      <td>0.001</td>\n",
       "      <td>20</td>\n",
       "      <td>glove_100d</td>\n",
       "    </tr>\n",
       "    <tr>\n",
       "      <th>15</th>\n",
       "      <td>0.915282</td>\n",
       "      <td>0.915185</td>\n",
       "      <td>0.914317</td>\n",
       "      <td>0.865922</td>\n",
       "      <td>0.865922</td>\n",
       "      <td>0.865922</td>\n",
       "      <td>32</td>\n",
       "      <td>0.4</td>\n",
       "      <td>0.001</td>\n",
       "      <td>20</td>\n",
       "      <td>glove_100d</td>\n",
       "    </tr>\n",
       "    <tr>\n",
       "      <th>21</th>\n",
       "      <td>0.925176</td>\n",
       "      <td>0.924761</td>\n",
       "      <td>0.923951</td>\n",
       "      <td>0.865922</td>\n",
       "      <td>0.865922</td>\n",
       "      <td>0.865922</td>\n",
       "      <td>64</td>\n",
       "      <td>0.2</td>\n",
       "      <td>0.001</td>\n",
       "      <td>20</td>\n",
       "      <td>glove_100d</td>\n",
       "    </tr>\n",
       "    <tr>\n",
       "      <th>9</th>\n",
       "      <td>0.944525</td>\n",
       "      <td>0.941176</td>\n",
       "      <td>0.940081</td>\n",
       "      <td>0.884101</td>\n",
       "      <td>0.871508</td>\n",
       "      <td>0.865917</td>\n",
       "      <td>32</td>\n",
       "      <td>0.0</td>\n",
       "      <td>0.001</td>\n",
       "      <td>20</td>\n",
       "      <td>glove_100d</td>\n",
       "    </tr>\n",
       "    <tr>\n",
       "      <th>3</th>\n",
       "      <td>0.946809</td>\n",
       "      <td>0.946648</td>\n",
       "      <td>0.944939</td>\n",
       "      <td>0.865305</td>\n",
       "      <td>0.865922</td>\n",
       "      <td>0.865499</td>\n",
       "      <td>16</td>\n",
       "      <td>0.2</td>\n",
       "      <td>0.001</td>\n",
       "      <td>20</td>\n",
       "      <td>glove_100d</td>\n",
       "    </tr>\n",
       "    <tr>\n",
       "      <th>24</th>\n",
       "      <td>0.902918</td>\n",
       "      <td>0.902873</td>\n",
       "      <td>0.901725</td>\n",
       "      <td>0.854749</td>\n",
       "      <td>0.854749</td>\n",
       "      <td>0.854749</td>\n",
       "      <td>64</td>\n",
       "      <td>0.4</td>\n",
       "      <td>0.001</td>\n",
       "      <td>20</td>\n",
       "      <td>glove_100d</td>\n",
       "    </tr>\n",
       "  </tbody>\n",
       "</table>\n",
       "</div>"
      ],
      "text/plain": [
       "    train_acc  train_rec  train_f1  test_acc  test_rec   test_f1  batch_size   \n",
       "9    0.989146   0.989056  0.989028  0.978038  0.977654  0.977717          64  \\\n",
       "3    0.993179   0.993160  0.993151  0.978038  0.977654  0.977717          32   \n",
       "12   0.986395   0.986320  0.986285  0.972871  0.972067  0.972183          64   \n",
       "6    0.986395   0.986320  0.986285  0.972871  0.972067  0.972183          32   \n",
       "15   0.986395   0.986320  0.986285  0.972871  0.972067  0.972183          64   \n",
       "0    0.991829   0.991792  0.991778  0.972213  0.972067  0.972108          32   \n",
       "3    0.977158   0.976744  0.976610  0.944134  0.944134  0.944134          32   \n",
       "0    0.971371   0.971272  0.971160  0.907729  0.905028  0.905652          16   \n",
       "18   0.968849   0.968536  0.968355  0.887742  0.888268  0.887529          64   \n",
       "6    0.925644   0.924761  0.923790  0.871941  0.871508  0.871696          16   \n",
       "12   0.947138   0.946648  0.946185  0.870784  0.871508  0.870886          32   \n",
       "15   0.915282   0.915185  0.914317  0.865922  0.865922  0.865922          32   \n",
       "21   0.925176   0.924761  0.923951  0.865922  0.865922  0.865922          64   \n",
       "9    0.944525   0.941176  0.940081  0.884101  0.871508  0.865917          32   \n",
       "3    0.946809   0.946648  0.944939  0.865305  0.865922  0.865499          16   \n",
       "24   0.902918   0.902873  0.901725  0.854749  0.854749  0.854749          64   \n",
       "\n",
       "    dropout     lr  epochs                                                 10  \n",
       "9       0.0  0.001      20  bert_embeddings_bert_large_uncased_whole_word_...  \n",
       "3       0.2  0.001      20  bert_embeddings_bert_large_uncased_whole_word_...  \n",
       "12      0.2  0.001      20  bert_embeddings_bert_large_uncased_whole_word_...  \n",
       "6       0.4  0.001      20  bert_embeddings_bert_large_uncased_whole_word_...  \n",
       "15      0.4  0.001      20  bert_embeddings_bert_large_uncased_whole_word_...  \n",
       "0       0.0  0.001      20  bert_embeddings_bert_large_uncased_whole_word_...  \n",
       "3       0.2  0.001      20   roberta_embeddings_pmc_med_bio_mlm_roberta_large  \n",
       "0       0.0  0.001      20                                         glove_100d  \n",
       "18      0.0  0.001      20                                         glove_100d  \n",
       "6       0.4  0.001      20                                         glove_100d  \n",
       "12      0.2  0.001      20                                         glove_100d  \n",
       "15      0.4  0.001      20                                         glove_100d  \n",
       "21      0.2  0.001      20                                         glove_100d  \n",
       "9       0.0  0.001      20                                         glove_100d  \n",
       "3       0.2  0.001      20                                         glove_100d  \n",
       "24      0.4  0.001      20                                         glove_100d  "
      ]
     },
     "execution_count": 98,
     "metadata": {},
     "output_type": "execute_result"
    }
   ],
   "source": [
    "top_total_dla"
   ]
  },
  {
   "cell_type": "code",
   "execution_count": 94,
   "id": "d6b91a79",
   "metadata": {},
   "outputs": [],
   "source": [
    "top_total_dla = dla.sort_values(by = ['test_f1'], ascending = False).head(16) "
   ]
  },
  {
   "cell_type": "markdown",
   "id": "4b09dc7f",
   "metadata": {},
   "source": [
    "#### Clean format of the resulting dataset:"
   ]
  },
  {
   "cell_type": "code",
   "execution_count": 99,
   "id": "3107d75d",
   "metadata": {},
   "outputs": [],
   "source": [
    "top_total_dla.columns = ['train_precision', 'train_recall', 'train_f1', 'test_precision', 'test_recall', 'test_f1',\n",
    "       'batch_size', 'dropout', 'learning_rate', 'epochs', 'embeddings']\n",
    "top_total_dla = top_total_dla[['embeddings','batch_size', 'dropout', 'learning_rate', 'epochs', 'train_precision', 'train_recall', 'train_f1', 'test_precision', 'test_recall', 'test_f1']]\n",
    "top_total_dla[\"embeddings\"] =[emb.split(\"_\")[0] for emb in  top_total_dla[\"embeddings\"]]"
   ]
  },
  {
   "cell_type": "code",
   "execution_count": 100,
   "id": "91bf2d73",
   "metadata": {},
   "outputs": [],
   "source": [
    "top_total_dla = top_total_dla.drop([\"train_precision\", \"train_recall\", \"test_precision\", \"test_recall\"], axis = 1)"
   ]
  },
  {
   "cell_type": "code",
   "execution_count": 101,
   "id": "6531a0c9",
   "metadata": {},
   "outputs": [
    {
     "data": {
      "text/html": [
       "<div>\n",
       "<style scoped>\n",
       "    .dataframe tbody tr th:only-of-type {\n",
       "        vertical-align: middle;\n",
       "    }\n",
       "\n",
       "    .dataframe tbody tr th {\n",
       "        vertical-align: top;\n",
       "    }\n",
       "\n",
       "    .dataframe thead th {\n",
       "        text-align: right;\n",
       "    }\n",
       "</style>\n",
       "<table border=\"1\" class=\"dataframe\">\n",
       "  <thead>\n",
       "    <tr style=\"text-align: right;\">\n",
       "      <th></th>\n",
       "      <th>embeddings</th>\n",
       "      <th>batch_size</th>\n",
       "      <th>dropout</th>\n",
       "      <th>learning_rate</th>\n",
       "      <th>epochs</th>\n",
       "      <th>train_f1</th>\n",
       "      <th>test_f1</th>\n",
       "    </tr>\n",
       "  </thead>\n",
       "  <tbody>\n",
       "    <tr>\n",
       "      <th>9</th>\n",
       "      <td>bert</td>\n",
       "      <td>64</td>\n",
       "      <td>0.0</td>\n",
       "      <td>0.001</td>\n",
       "      <td>20</td>\n",
       "      <td>0.989028</td>\n",
       "      <td>0.977717</td>\n",
       "    </tr>\n",
       "    <tr>\n",
       "      <th>3</th>\n",
       "      <td>bert</td>\n",
       "      <td>32</td>\n",
       "      <td>0.2</td>\n",
       "      <td>0.001</td>\n",
       "      <td>20</td>\n",
       "      <td>0.993151</td>\n",
       "      <td>0.977717</td>\n",
       "    </tr>\n",
       "    <tr>\n",
       "      <th>12</th>\n",
       "      <td>bert</td>\n",
       "      <td>64</td>\n",
       "      <td>0.2</td>\n",
       "      <td>0.001</td>\n",
       "      <td>20</td>\n",
       "      <td>0.986285</td>\n",
       "      <td>0.972183</td>\n",
       "    </tr>\n",
       "    <tr>\n",
       "      <th>6</th>\n",
       "      <td>bert</td>\n",
       "      <td>32</td>\n",
       "      <td>0.4</td>\n",
       "      <td>0.001</td>\n",
       "      <td>20</td>\n",
       "      <td>0.986285</td>\n",
       "      <td>0.972183</td>\n",
       "    </tr>\n",
       "    <tr>\n",
       "      <th>15</th>\n",
       "      <td>bert</td>\n",
       "      <td>64</td>\n",
       "      <td>0.4</td>\n",
       "      <td>0.001</td>\n",
       "      <td>20</td>\n",
       "      <td>0.986285</td>\n",
       "      <td>0.972183</td>\n",
       "    </tr>\n",
       "    <tr>\n",
       "      <th>0</th>\n",
       "      <td>bert</td>\n",
       "      <td>32</td>\n",
       "      <td>0.0</td>\n",
       "      <td>0.001</td>\n",
       "      <td>20</td>\n",
       "      <td>0.991778</td>\n",
       "      <td>0.972108</td>\n",
       "    </tr>\n",
       "    <tr>\n",
       "      <th>3</th>\n",
       "      <td>roberta</td>\n",
       "      <td>32</td>\n",
       "      <td>0.2</td>\n",
       "      <td>0.001</td>\n",
       "      <td>20</td>\n",
       "      <td>0.976610</td>\n",
       "      <td>0.944134</td>\n",
       "    </tr>\n",
       "    <tr>\n",
       "      <th>0</th>\n",
       "      <td>glove</td>\n",
       "      <td>16</td>\n",
       "      <td>0.0</td>\n",
       "      <td>0.001</td>\n",
       "      <td>20</td>\n",
       "      <td>0.971160</td>\n",
       "      <td>0.905652</td>\n",
       "    </tr>\n",
       "    <tr>\n",
       "      <th>18</th>\n",
       "      <td>glove</td>\n",
       "      <td>64</td>\n",
       "      <td>0.0</td>\n",
       "      <td>0.001</td>\n",
       "      <td>20</td>\n",
       "      <td>0.968355</td>\n",
       "      <td>0.887529</td>\n",
       "    </tr>\n",
       "    <tr>\n",
       "      <th>6</th>\n",
       "      <td>glove</td>\n",
       "      <td>16</td>\n",
       "      <td>0.4</td>\n",
       "      <td>0.001</td>\n",
       "      <td>20</td>\n",
       "      <td>0.923790</td>\n",
       "      <td>0.871696</td>\n",
       "    </tr>\n",
       "  </tbody>\n",
       "</table>\n",
       "</div>"
      ],
      "text/plain": [
       "   embeddings  batch_size  dropout  learning_rate  epochs  train_f1   test_f1\n",
       "9        bert          64      0.0          0.001      20  0.989028  0.977717\n",
       "3        bert          32      0.2          0.001      20  0.993151  0.977717\n",
       "12       bert          64      0.2          0.001      20  0.986285  0.972183\n",
       "6        bert          32      0.4          0.001      20  0.986285  0.972183\n",
       "15       bert          64      0.4          0.001      20  0.986285  0.972183\n",
       "0        bert          32      0.0          0.001      20  0.991778  0.972108\n",
       "3     roberta          32      0.2          0.001      20  0.976610  0.944134\n",
       "0       glove          16      0.0          0.001      20  0.971160  0.905652\n",
       "18      glove          64      0.0          0.001      20  0.968355  0.887529\n",
       "6       glove          16      0.4          0.001      20  0.923790  0.871696"
      ]
     },
     "execution_count": 101,
     "metadata": {},
     "output_type": "execute_result"
    }
   ],
   "source": [
    "top_total_dla.head(10)"
   ]
  },
  {
   "cell_type": "markdown",
   "id": "2bdbe77f",
   "metadata": {},
   "source": [
    "#### Plot a pie chart showing the proportion of each embedding type in the top DL-based models"
   ]
  },
  {
   "cell_type": "code",
   "execution_count": 102,
   "id": "5372bd5d",
   "metadata": {},
   "outputs": [
    {
     "data": {
      "image/png": "[encoded data removed]",
      "text/plain": [
       "<Figure size 640x480 with 1 Axes>"
      ]
     },
     "metadata": {},
     "output_type": "display_data"
    }
   ],
   "source": [
    "import matplotlib.pyplot as plt\n",
    "\n",
    "# Value list\n",
    "lista_clases = top_total_dla[\"embeddings\"]\n",
    "\n",
    "# Create dictionary to store ocurrences\n",
    "ocurrencias = {}\n",
    "\n",
    "# Calculate number of ocurrences of each class\n",
    "for clase in lista_clases:\n",
    "    ocurrencias[clase] = ocurrencias.get(clase, 0) + 1\n",
    "\n",
    "# Obtain classes and ocurrences\n",
    "clases = list(ocurrencias.keys())\n",
    "clases = [\"GloVe\", \"BIO-roBERTa\", \"BERT\"]\n",
    "ocurrencias_clases = list(ocurrencias.values())\n",
    "\n",
    "# Create orange palette\n",
    "colores = ['#FF8C00', '#FFA500', '#FFB74D']\n",
    "\n",
    "# Create and customize pie chart\n",
    "plt.pie(ocurrencias_clases, labels=clases, autopct='%1.1f%%', colors=colores,\n",
    "        wedgeprops={'linewidth': 1, 'edgecolor': 'white'})\n",
    "plt.title(\"Proportion of embedding types in top models\", fontsize=16, fontweight='bold')\n",
    "plt.show()\n"
   ]
  },
  {
   "cell_type": "markdown",
   "id": "a5dd7e10",
   "metadata": {},
   "source": [
    "#### Get expression in latex for a table showing the best models and their metrics:"
   ]
  },
  {
   "cell_type": "code",
   "execution_count": 103,
   "id": "0a9817b0",
   "metadata": {},
   "outputs": [
    {
     "name": "stdout",
     "output_type": "stream",
     "text": [
      "\\begin{tabular}{lrrrrrr}\n",
      "\\toprule\n",
      "embeddings & batch_size & dropout & learning_rate & epochs & train_f1 & test_f1 \\\\\n",
      "\\midrule\n",
      "bert & 64 & 0.000000 & 0.001000 & 20 & 0.989028 & 0.977717 \\\\\n",
      "bert & 32 & 0.200000 & 0.001000 & 20 & 0.993151 & 0.977717 \\\\\n",
      "bert & 64 & 0.200000 & 0.001000 & 20 & 0.986285 & 0.972183 \\\\\n",
      "bert & 32 & 0.400000 & 0.001000 & 20 & 0.986285 & 0.972183 \\\\\n",
      "bert & 64 & 0.400000 & 0.001000 & 20 & 0.986285 & 0.972183 \\\\\n",
      "bert & 32 & 0.000000 & 0.001000 & 20 & 0.991778 & 0.972108 \\\\\n",
      "roberta & 32 & 0.200000 & 0.001000 & 20 & 0.976610 & 0.944134 \\\\\n",
      "glove & 16 & 0.000000 & 0.001000 & 20 & 0.971160 & 0.905652 \\\\\n",
      "glove & 64 & 0.000000 & 0.001000 & 20 & 0.968355 & 0.887529 \\\\\n",
      "glove & 16 & 0.400000 & 0.001000 & 20 & 0.923790 & 0.871696 \\\\\n",
      "\\bottomrule\n",
      "\\end{tabular}\n",
      "\n"
     ]
    }
   ],
   "source": [
    "# Generate table in LaTeX format\n",
    "tabla_latex = top_total_dla.head(10).to_latex(index=False)\n",
    "\n",
    "# Print table\n",
    "print(tabla_latex)"
   ]
  }
 ],
 "metadata": {
  "kernelspec": {
   "display_name": "conda_python3",
   "language": "python",
   "name": "conda_python3"
  },
  "language_info": {
   "codemirror_mode": {
    "name": "ipython",
    "version": 3
   },
   "file_extension": ".py",
   "mimetype": "text/x-python",
   "name": "python",
   "nbconvert_exporter": "python",
   "pygments_lexer": "ipython3",
   "version": "3.10.10"
  }
 },
 "nbformat": 4,
 "nbformat_minor": 5
}
